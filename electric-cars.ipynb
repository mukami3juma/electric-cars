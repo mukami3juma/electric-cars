{
 "cells": [
  {
   "cell_type": "markdown",
   "source": [
    "IMPORT LIBRARIES"
   ],
   "metadata": {}
  },
  {
   "cell_type": "code",
   "execution_count": 2,
   "source": [
    "\r\n",
    "# importing the pandas library\r\n",
    "import pandas as pd\r\n",
    "# importing the numpy library\r\n",
    "import numpy as np\r\n"
   ],
   "outputs": [],
   "metadata": {}
  },
  {
   "cell_type": "markdown",
   "source": [
    "LOADING THE DATASET\r\n"
   ],
   "metadata": {}
  },
  {
   "cell_type": "code",
   "execution_count": 4,
   "source": [
    "# reading the dataset\r\n",
    "url = 'http://bit.ly/autolib_dataset'\r\n",
    "\r\n",
    "df = pd.read_csv(url)\r\n",
    "df.head()\r\n",
    "\r\n"
   ],
   "outputs": [
    {
     "output_type": "execute_result",
     "data": {
      "text/plain": [
       "                              Address  Cars  Bluecar counter  Utilib counter  \\\n",
       "0                 2 Avenue de Suffren     0                0               0   \n",
       "1           145 Rue Raymond Losserand     6                6               0   \n",
       "2    2 Avenue John Fitzgerald Kennedy     3                3               0   \n",
       "3              51 Rue EugÃ¨ne OudinÃ©     3                3               1   \n",
       "4  6 avenue de la Porte de Champerret     3                3               0   \n",
       "\n",
       "   Utilib 1.4 counter  Charge Slots Charging Status        City  \\\n",
       "0                   0             0     nonexistent       Paris   \n",
       "1                   0             0     operational       Paris   \n",
       "2                   2             0     operational  Le Bourget   \n",
       "3                   0             1     operational       Paris   \n",
       "4                   0             0     nonexistent       Paris   \n",
       "\n",
       "  Displayed comment                                 ID  ... Scheduled at  \\\n",
       "0               NaN                    paris-suffren-2  ...          NaN   \n",
       "1               NaN         paris-raymondlosserand-145  ...          NaN   \n",
       "2               NaN  lebourget-johnfitzgeraldkennedy-2  ...          NaN   \n",
       "3               NaN              paris-eugeneoudine-51  ...          NaN   \n",
       "4               NaN          paris-portedechamperret-6  ...          NaN   \n",
       "\n",
       "  Slots  Station type Status Subscription status  year  month day hour minute  \n",
       "0     2       station     ok         nonexistent  2018      4   8   11     43  \n",
       "1     0       station     ok         nonexistent  2018      4   6    7     24  \n",
       "2     1       station     ok         nonexistent  2018      4   3   20     14  \n",
       "3     2       station     ok         nonexistent  2018      4   4    4     37  \n",
       "4     3       station     ok         nonexistent  2018      4   8   17     23  \n",
       "\n",
       "[5 rows x 25 columns]"
      ],
      "text/html": [
       "<div>\n",
       "<style scoped>\n",
       "    .dataframe tbody tr th:only-of-type {\n",
       "        vertical-align: middle;\n",
       "    }\n",
       "\n",
       "    .dataframe tbody tr th {\n",
       "        vertical-align: top;\n",
       "    }\n",
       "\n",
       "    .dataframe thead th {\n",
       "        text-align: right;\n",
       "    }\n",
       "</style>\n",
       "<table border=\"1\" class=\"dataframe\">\n",
       "  <thead>\n",
       "    <tr style=\"text-align: right;\">\n",
       "      <th></th>\n",
       "      <th>Address</th>\n",
       "      <th>Cars</th>\n",
       "      <th>Bluecar counter</th>\n",
       "      <th>Utilib counter</th>\n",
       "      <th>Utilib 1.4 counter</th>\n",
       "      <th>Charge Slots</th>\n",
       "      <th>Charging Status</th>\n",
       "      <th>City</th>\n",
       "      <th>Displayed comment</th>\n",
       "      <th>ID</th>\n",
       "      <th>...</th>\n",
       "      <th>Scheduled at</th>\n",
       "      <th>Slots</th>\n",
       "      <th>Station type</th>\n",
       "      <th>Status</th>\n",
       "      <th>Subscription status</th>\n",
       "      <th>year</th>\n",
       "      <th>month</th>\n",
       "      <th>day</th>\n",
       "      <th>hour</th>\n",
       "      <th>minute</th>\n",
       "    </tr>\n",
       "  </thead>\n",
       "  <tbody>\n",
       "    <tr>\n",
       "      <th>0</th>\n",
       "      <td>2 Avenue de Suffren</td>\n",
       "      <td>0</td>\n",
       "      <td>0</td>\n",
       "      <td>0</td>\n",
       "      <td>0</td>\n",
       "      <td>0</td>\n",
       "      <td>nonexistent</td>\n",
       "      <td>Paris</td>\n",
       "      <td>NaN</td>\n",
       "      <td>paris-suffren-2</td>\n",
       "      <td>...</td>\n",
       "      <td>NaN</td>\n",
       "      <td>2</td>\n",
       "      <td>station</td>\n",
       "      <td>ok</td>\n",
       "      <td>nonexistent</td>\n",
       "      <td>2018</td>\n",
       "      <td>4</td>\n",
       "      <td>8</td>\n",
       "      <td>11</td>\n",
       "      <td>43</td>\n",
       "    </tr>\n",
       "    <tr>\n",
       "      <th>1</th>\n",
       "      <td>145 Rue Raymond Losserand</td>\n",
       "      <td>6</td>\n",
       "      <td>6</td>\n",
       "      <td>0</td>\n",
       "      <td>0</td>\n",
       "      <td>0</td>\n",
       "      <td>operational</td>\n",
       "      <td>Paris</td>\n",
       "      <td>NaN</td>\n",
       "      <td>paris-raymondlosserand-145</td>\n",
       "      <td>...</td>\n",
       "      <td>NaN</td>\n",
       "      <td>0</td>\n",
       "      <td>station</td>\n",
       "      <td>ok</td>\n",
       "      <td>nonexistent</td>\n",
       "      <td>2018</td>\n",
       "      <td>4</td>\n",
       "      <td>6</td>\n",
       "      <td>7</td>\n",
       "      <td>24</td>\n",
       "    </tr>\n",
       "    <tr>\n",
       "      <th>2</th>\n",
       "      <td>2 Avenue John Fitzgerald Kennedy</td>\n",
       "      <td>3</td>\n",
       "      <td>3</td>\n",
       "      <td>0</td>\n",
       "      <td>2</td>\n",
       "      <td>0</td>\n",
       "      <td>operational</td>\n",
       "      <td>Le Bourget</td>\n",
       "      <td>NaN</td>\n",
       "      <td>lebourget-johnfitzgeraldkennedy-2</td>\n",
       "      <td>...</td>\n",
       "      <td>NaN</td>\n",
       "      <td>1</td>\n",
       "      <td>station</td>\n",
       "      <td>ok</td>\n",
       "      <td>nonexistent</td>\n",
       "      <td>2018</td>\n",
       "      <td>4</td>\n",
       "      <td>3</td>\n",
       "      <td>20</td>\n",
       "      <td>14</td>\n",
       "    </tr>\n",
       "    <tr>\n",
       "      <th>3</th>\n",
       "      <td>51 Rue EugÃ¨ne OudinÃ©</td>\n",
       "      <td>3</td>\n",
       "      <td>3</td>\n",
       "      <td>1</td>\n",
       "      <td>0</td>\n",
       "      <td>1</td>\n",
       "      <td>operational</td>\n",
       "      <td>Paris</td>\n",
       "      <td>NaN</td>\n",
       "      <td>paris-eugeneoudine-51</td>\n",
       "      <td>...</td>\n",
       "      <td>NaN</td>\n",
       "      <td>2</td>\n",
       "      <td>station</td>\n",
       "      <td>ok</td>\n",
       "      <td>nonexistent</td>\n",
       "      <td>2018</td>\n",
       "      <td>4</td>\n",
       "      <td>4</td>\n",
       "      <td>4</td>\n",
       "      <td>37</td>\n",
       "    </tr>\n",
       "    <tr>\n",
       "      <th>4</th>\n",
       "      <td>6 avenue de la Porte de Champerret</td>\n",
       "      <td>3</td>\n",
       "      <td>3</td>\n",
       "      <td>0</td>\n",
       "      <td>0</td>\n",
       "      <td>0</td>\n",
       "      <td>nonexistent</td>\n",
       "      <td>Paris</td>\n",
       "      <td>NaN</td>\n",
       "      <td>paris-portedechamperret-6</td>\n",
       "      <td>...</td>\n",
       "      <td>NaN</td>\n",
       "      <td>3</td>\n",
       "      <td>station</td>\n",
       "      <td>ok</td>\n",
       "      <td>nonexistent</td>\n",
       "      <td>2018</td>\n",
       "      <td>4</td>\n",
       "      <td>8</td>\n",
       "      <td>17</td>\n",
       "      <td>23</td>\n",
       "    </tr>\n",
       "  </tbody>\n",
       "</table>\n",
       "<p>5 rows × 25 columns</p>\n",
       "</div>"
      ]
     },
     "metadata": {},
     "execution_count": 4
    }
   ],
   "metadata": {}
  },
  {
   "cell_type": "code",
   "execution_count": 5,
   "source": [
    "\r\n",
    "# checking size of the dataset\r\n",
    "df.shape\r\n"
   ],
   "outputs": [
    {
     "output_type": "execute_result",
     "data": {
      "text/plain": [
       "(5000, 25)"
      ]
     },
     "metadata": {},
     "execution_count": 5
    }
   ],
   "metadata": {}
  },
  {
   "cell_type": "markdown",
   "source": [
    "CLEANING DATA"
   ],
   "metadata": {}
  },
  {
   "cell_type": "code",
   "execution_count": 6,
   "source": [
    "# checking for missing values per column\r\n",
    "df.isnull().sum()\r\n"
   ],
   "outputs": [
    {
     "output_type": "execute_result",
     "data": {
      "text/plain": [
       "Address                   0\n",
       "Cars                      0\n",
       "Bluecar counter           0\n",
       "Utilib counter            0\n",
       "Utilib 1.4 counter        0\n",
       "Charge Slots              0\n",
       "Charging Status           0\n",
       "City                      0\n",
       "Displayed comment      4889\n",
       "ID                        0\n",
       "Kind                      0\n",
       "Geo point                 0\n",
       "Postal code               0\n",
       "Public name               0\n",
       "Rental status             0\n",
       "Scheduled at           4953\n",
       "Slots                     0\n",
       "Station type              0\n",
       "Status                    0\n",
       "Subscription status       0\n",
       "year                      0\n",
       "month                     0\n",
       "day                       0\n",
       "hour                      0\n",
       "minute                    0\n",
       "dtype: int64"
      ]
     },
     "metadata": {},
     "execution_count": 6
    }
   ],
   "metadata": {}
  },
  {
   "cell_type": "code",
   "execution_count": 7,
   "source": [
    "\r\n",
    "# replacing missing values\r\n",
    "df['Displayed comment'].fillna('Missing Values', inplace=True)\r\n",
    "df['Scheduled at'].fillna('Missing Values', inplace=True)\r\n",
    "df.head()\r\n",
    "df.dtypes\r\n"
   ],
   "outputs": [
    {
     "output_type": "execute_result",
     "data": {
      "text/plain": [
       "Address                object\n",
       "Cars                    int64\n",
       "Bluecar counter         int64\n",
       "Utilib counter          int64\n",
       "Utilib 1.4 counter      int64\n",
       "Charge Slots            int64\n",
       "Charging Status        object\n",
       "City                   object\n",
       "Displayed comment      object\n",
       "ID                     object\n",
       "Kind                   object\n",
       "Geo point              object\n",
       "Postal code             int64\n",
       "Public name            object\n",
       "Rental status          object\n",
       "Scheduled at           object\n",
       "Slots                   int64\n",
       "Station type           object\n",
       "Status                 object\n",
       "Subscription status    object\n",
       "year                    int64\n",
       "month                   int64\n",
       "day                     int64\n",
       "hour                    int64\n",
       "minute                  int64\n",
       "dtype: object"
      ]
     },
     "metadata": {},
     "execution_count": 7
    }
   ],
   "metadata": {}
  },
  {
   "cell_type": "code",
   "execution_count": null,
   "source": [],
   "outputs": [],
   "metadata": {}
  }
 ],
 "metadata": {
  "orig_nbformat": 4,
  "language_info": {
   "name": "python",
   "version": "3.9.6",
   "mimetype": "text/x-python",
   "codemirror_mode": {
    "name": "ipython",
    "version": 3
   },
   "pygments_lexer": "ipython3",
   "nbconvert_exporter": "python",
   "file_extension": ".py"
  },
  "kernelspec": {
   "name": "python3",
   "display_name": "Python 3.9.6 64-bit"
  },
  "interpreter": {
   "hash": "cf6663ca35ebd57d6121109460e534e72c1e1f8ff142ad985cdcb4b7e585eb79"
  }
 },
 "nbformat": 4,
 "nbformat_minor": 2
}